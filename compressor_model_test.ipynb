{
 "cells": [
  {
   "cell_type": "code",
   "execution_count": 3,
   "metadata": {},
   "outputs": [],
   "source": [
    "import torch\n",
    "import numpy as np\n",
    "import matplotlib.pyplot as plt\n",
    "import seaborn as sns\n",
    "from sklearn.metrics import mean_squared_error\n",
    "from pathlib import Path\n",
    "import scienceplots\n",
    "\n",
    "plt.style.use(['science', 'bright'])\n",
    "plt.rcParams['figure.dpi'] = 300"
   ]
  },
  {
   "cell_type": "code",
   "execution_count": 18,
   "metadata": {},
   "outputs": [],
   "source": [
    "config = {\n",
    "    'data_dir': Path('data/noise/'),\n",
    "    'models_dir': Path('results/models/'),\n",
    "    'num_cosmologies': 10,\n",
    "    'realizations_per_cosmology': 50,\n",
    "    'lmax': 2400,  # 2401 puntos (0-2400)\n",
    "    'param_names': ['Omega_m', 'Omega_b', 'h', 'sigma_8', 'ns', 'tau']\n",
    "}"
   ]
  },
  {
   "cell_type": "code",
   "execution_count": 19,
   "metadata": {},
   "outputs": [],
   "source": [
    "# %%\n",
    "class CosmologicalNetwork(torch.nn.Module):\n",
    "    def __init__(self, input_size, output_size, hidden_layers, hidden_units, dropout_rate):\n",
    "        super().__init__()\n",
    "        \n",
    "        layers = []\n",
    "        layers.append(torch.nn.Linear(input_size, hidden_units))\n",
    "        layers.append(torch.nn.ReLU())\n",
    "        layers.append(torch.nn.Dropout(dropout_rate))\n",
    "        \n",
    "        for _ in range(hidden_layers - 1):\n",
    "            layers.append(torch.nn.Linear(hidden_units, hidden_units))\n",
    "            layers.append(torch.nn.ReLU())\n",
    "            layers.append(torch.nn.Dropout(dropout_rate))\n",
    "        \n",
    "        layers.append(torch.nn.Linear(hidden_units, output_size))\n",
    "        \n",
    "        self.network = torch.nn.Sequential(*layers)\n",
    "    \n",
    "    def forward(self, x):\n",
    "        return self.network(x)"
   ]
  },
  {
   "cell_type": "code",
   "execution_count": 20,
   "metadata": {},
   "outputs": [],
   "source": [
    "def load_model(model_path):\n",
    "    \"\"\"Carga un modelo entrenado\"\"\"\n",
    "    checkpoint = torch.load(model_path, weights_only=False)\n",
    "    \n",
    "    model = CosmologicalNetwork(\n",
    "        input_size=config['lmax'] + 1,\n",
    "        output_size=len(config['param_names']),\n",
    "        hidden_layers=checkpoint['best_params']['hidden_layers'],\n",
    "        hidden_units=checkpoint['best_params']['hidden_units'],\n",
    "        dropout_rate=checkpoint['best_params']['dropout_rate']\n",
    "    )\n",
    "    \n",
    "    model.load_state_dict(checkpoint['model_state_dict'])\n",
    "    return model, checkpoint"
   ]
  },
  {
   "cell_type": "code",
   "execution_count": 21,
   "metadata": {},
   "outputs": [
    {
     "name": "stdout",
     "output_type": "stream",
     "text": [
      "Espectros: torch.Size([500, 2401]) (realizaciones × lmax)\n",
      "Parámetros: torch.Size([500, 6]) (realizaciones × parámetros)\n"
     ]
    }
   ],
   "source": [
    "# %%\n",
    "# Cargar espectros y parámetros\n",
    "spectra = torch.load(config['data_dir'] / 'cmb_observed_TTnoise.pt', weights_only=True)\n",
    "params = torch.load(config['data_dir'] / 'sim_params.pt', weights_only=True)\n",
    "\n",
    "print(f\"Espectros: {spectra.shape} (realizaciones × lmax)\")\n",
    "print(f\"Parámetros: {params.shape} (realizaciones × parámetros)\")"
   ]
  },
  {
   "cell_type": "code",
   "execution_count": 22,
   "metadata": {},
   "outputs": [],
   "source": [
    "# %%\n",
    "def evaluate_single_model(fold_number=0):\n",
    "    \"\"\"Evalúa un modelo específico\"\"\"\n",
    "    # Cargar modelo\n",
    "    model_path = config['models_dir'] / f'model_fold_{fold_number}.pth'\n",
    "    model, checkpoint = load_model(model_path)\n",
    "    \n",
    "    # Obtener realizaciones de prueba (cosmología excluida)\n",
    "    test_start = fold_number * config['realizations_per_cosmology']\n",
    "    test_end = test_start + config['realizations_per_cosmology']\n",
    "    test_idx = range(test_start, test_end)\n",
    "    \n",
    "    X_test = spectra[test_idx].numpy()\n",
    "    y_test = params[test_idx].numpy()\n",
    "    \n",
    "    # Normalizar datos de entrada\n",
    "    X_test_norm = (X_test - checkpoint['spectra_mean'].numpy()) / (checkpoint['spectra_std'].numpy() + 1e-8)\n",
    "    \n",
    "    # Predecir\n",
    "    model.eval()\n",
    "    with torch.no_grad():\n",
    "        predictions = model(torch.FloatTensor(X_test_norm)).numpy()\n",
    "    \n",
    "    # Desnormalizar predicciones\n",
    "    predictions = predictions * checkpoint['params_std'].numpy() + checkpoint['params_mean'].numpy()\n",
    "    \n",
    "    # Calcular métricas\n",
    "    mse = mean_squared_error(y_test, predictions, multioutput='raw_values')\n",
    "    errors = (predictions - y_test) / y_test * 100  # Error porcentual\n",
    "    \n",
    "    # Visualización\n",
    "    plt.figure(figsize=(15, 10))\n",
    "    for i, name in enumerate(config['param_names']):\n",
    "        plt.subplot(2, 3, i+1)\n",
    "        plt.scatter(y_test[:, i], predictions[:, i], alpha=0.6)\n",
    "        plt.plot([y_test[:, i].min(), y_test[:, i].max()], \n",
    "                 [y_test[:, i].min(), y_test[:, i].max()], 'r--')\n",
    "        plt.title(f'{name}\\nMSE: {mse[i]:.2e}')\n",
    "        plt.xlabel('Valor Real')\n",
    "        plt.ylabel('Predicción')\n",
    "    plt.tight_layout()\n",
    "    plt.show()\n",
    "    \n",
    "    # Mostrar estadísticas\n",
    "    print(f\"\\nResultados para modelo fold {fold_number} (excluyendo cosmología {fold_number}):\")\n",
    "    print(\"Error porcentual medio ± desviación estándar:\")\n",
    "    for i, name in enumerate(config['param_names']):\n",
    "        print(f\"{name}: {np.mean(np.abs(errors[:, i])):.2f}% ± {np.std(errors[:, i]):.2f}%\")\n",
    "    \n",
    "    return predictions, y_test, errors"
   ]
  },
  {
   "cell_type": "code",
   "execution_count": 23,
   "metadata": {},
   "outputs": [
    {
     "ename": "AttributeError",
     "evalue": "'numpy.ndarray' object has no attribute 'numpy'",
     "output_type": "error",
     "traceback": [
      "\u001b[1;31m---------------------------------------------------------------------------\u001b[0m",
      "\u001b[1;31mAttributeError\u001b[0m                            Traceback (most recent call last)",
      "Cell \u001b[1;32mIn[23], line 2\u001b[0m\n\u001b[0;32m      1\u001b[0m \u001b[38;5;66;03m# Ejemplo: evaluar el primer fold (excluyendo cosmología 0)\u001b[39;00m\n\u001b[1;32m----> 2\u001b[0m predictions, true_values, errors \u001b[38;5;241m=\u001b[39m \u001b[43mevaluate_single_model\u001b[49m\u001b[43m(\u001b[49m\u001b[43mfold_number\u001b[49m\u001b[38;5;241;43m=\u001b[39;49m\u001b[38;5;241;43m0\u001b[39;49m\u001b[43m)\u001b[49m\n",
      "Cell \u001b[1;32mIn[22], line 17\u001b[0m, in \u001b[0;36mevaluate_single_model\u001b[1;34m(fold_number)\u001b[0m\n\u001b[0;32m     14\u001b[0m y_test \u001b[38;5;241m=\u001b[39m params[test_idx]\u001b[38;5;241m.\u001b[39mnumpy()\n\u001b[0;32m     16\u001b[0m \u001b[38;5;66;03m# Normalizar datos de entrada\u001b[39;00m\n\u001b[1;32m---> 17\u001b[0m X_test_norm \u001b[38;5;241m=\u001b[39m (X_test \u001b[38;5;241m-\u001b[39m \u001b[43mcheckpoint\u001b[49m\u001b[43m[\u001b[49m\u001b[38;5;124;43m'\u001b[39;49m\u001b[38;5;124;43mspectra_mean\u001b[39;49m\u001b[38;5;124;43m'\u001b[39;49m\u001b[43m]\u001b[49m\u001b[38;5;241;43m.\u001b[39;49m\u001b[43mnumpy\u001b[49m()) \u001b[38;5;241m/\u001b[39m (checkpoint[\u001b[38;5;124m'\u001b[39m\u001b[38;5;124mspectra_std\u001b[39m\u001b[38;5;124m'\u001b[39m]\u001b[38;5;241m.\u001b[39mnumpy() \u001b[38;5;241m+\u001b[39m \u001b[38;5;241m1e-8\u001b[39m)\n\u001b[0;32m     19\u001b[0m \u001b[38;5;66;03m# Predecir\u001b[39;00m\n\u001b[0;32m     20\u001b[0m model\u001b[38;5;241m.\u001b[39meval()\n",
      "\u001b[1;31mAttributeError\u001b[0m: 'numpy.ndarray' object has no attribute 'numpy'"
     ]
    }
   ],
   "source": [
    "# Ejemplo: evaluar el primer fold (excluyendo cosmología 0)\n",
    "predictions, true_values, errors = evaluate_single_model(fold_number=0)"
   ]
  },
  {
   "cell_type": "code",
   "execution_count": null,
   "metadata": {},
   "outputs": [],
   "source": []
  },
  {
   "cell_type": "code",
   "execution_count": null,
   "metadata": {},
   "outputs": [],
   "source": []
  },
  {
   "cell_type": "code",
   "execution_count": null,
   "metadata": {},
   "outputs": [],
   "source": []
  }
 ],
 "metadata": {
  "kernelspec": {
   "display_name": "sbi_env",
   "language": "python",
   "name": "python3"
  },
  "language_info": {
   "codemirror_mode": {
    "name": "ipython",
    "version": 3
   },
   "file_extension": ".py",
   "mimetype": "text/x-python",
   "name": "python",
   "nbconvert_exporter": "python",
   "pygments_lexer": "ipython3",
   "version": "3.10.16"
  }
 },
 "nbformat": 4,
 "nbformat_minor": 2
}
